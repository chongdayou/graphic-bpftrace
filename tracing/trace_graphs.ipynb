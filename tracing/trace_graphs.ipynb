{
 "cells": [
  {
   "cell_type": "code",
   "execution_count": 20,
   "id": "09ec6832-2b34-429a-a40f-de85af5a298f",
   "metadata": {},
   "outputs": [],
   "source": [
    "import csv\n",
    "import numpy as np\n",
    "import matplotlib as plt"
   ]
  },
  {
   "cell_type": "markdown",
   "id": "ce28042d-c2fc-4eb3-87c2-f69ad0cc94ea",
   "metadata": {},
   "source": [
    "### process file"
   ]
  },
  {
   "cell_type": "code",
   "execution_count": 25,
   "id": "5fcaccaa-1fe0-4298-8a04-44f91a0a2626",
   "metadata": {},
   "outputs": [
    {
     "name": "stdout",
     "output_type": "stream",
     "text": [
      "arr is None\n"
     ]
    }
   ],
   "source": [
    "def parse_key(key: str) -> int:\n",
    "    if not key:\n",
    "        return -1\n",
    "    \n",
    "    word_mapping = {\n",
    "        'true': 1,\n",
    "        'false': 0,\n",
    "        'exec()': 0,\n",
    "        'fork()': 1,\n",
    "        'exit()': 2,\n",
    "        'malloc()': 3,\n",
    "        'free()': 4,\n",
    "        'realloc()': 5\n",
    "    }\n",
    "    if key in word_mapping:\n",
    "        return word_mapping[key]\n",
    "    try:\n",
    "        return int(key)\n",
    "    except ValueError:\n",
    "        return -1\n",
    "\n",
    "def add_stats_line(arr: np.ndarray[np.int_] | None, line: list[str]) -> np.ndarray:\n",
    "    if not line:\n",
    "        return arr if arr is not None else np.empty((0, 0), dtype=int)\n",
    "\n",
    "    row = np.array([parse_key(word) for word in line], dtype=int)\n",
    "    row = row[None, :] # trick to add a dimension to row\n",
    "\n",
    "    if arr is None or arr.size == 0:\n",
    "        print('arr is None')\n",
    "        return row\n",
    "    if arr.ndim == 1: # if dimension of arr is 1\n",
    "        print('arr is dimension 1')\n",
    "        arr = arr[None, :]\n",
    "    if arr.shape[1] != row.shape[1]:\n",
    "        raise ValueError(f'Column mismatch: arr has {arr.shape[1]} cols, row has {row.shape[1]} cols.')\n",
    "    return np.vstack((arr,row))\n",
    "\n",
    "stats = None\n",
    "with open(\"trace_results.csv\", 'r') as trace_csv:\n",
    "\ttrace_reader = csv.reader(trace_csv)\n",
    "\tnext(trace_reader)\n",
    "\n",
    "\tfor line in trace_reader:\n",
    "\t\tstats = add_stats_line(stats, line)"
   ]
  },
  {
   "cell_type": "code",
   "execution_count": 26,
   "id": "22648644-8515-409f-bc53-c677df997a32",
   "metadata": {},
   "outputs": [
    {
     "name": "stdout",
     "output_type": "stream",
     "text": [
      "<class 'numpy.ndarray'>\n",
      "(130459, 8)\n",
      "2\n",
      "[[1417762848441          5188             1             4          9189\n",
      "            152             4            -1]\n",
      " [1417762862382          5185             1             4          9149\n",
      "            152            40            -1]\n",
      " [1417762922919          5183             1             4          9069\n",
      "             72            80            -1]\n",
      " [1417762930248          5183             1             4          9061\n",
      "             64             8            -1]\n",
      " [1417763175420          5183             1             2            -1\n",
      "             -1            -1            -1]]\n"
     ]
    }
   ],
   "source": [
    "print(type(stats))\n",
    "print(stats.shape)\n",
    "print(stats.ndim)\n",
    "print(stats[-5:])"
   ]
  },
  {
   "cell_type": "code",
   "execution_count": 27,
   "id": "55ff2a96-733a-4e22-a022-85c9bc98967b",
   "metadata": {},
   "outputs": [
    {
     "name": "stdout",
     "output_type": "stream",
     "text": [
      "Type: <class 'numpy.ndarray'>\n",
      "Shape: (10, 4)\n",
      "Dimensions: 2\n"
     ]
    },
    {
     "data": {
      "text/plain": [
       "array([[20, 21, 22, 23],\n",
       "       [24, 25, 26, 27],\n",
       "       [28, 29, 30, 31],\n",
       "       [32, 33, 34, 35],\n",
       "       [36, 37, 38, 39]])"
      ]
     },
     "execution_count": 27,
     "metadata": {},
     "output_type": "execute_result"
    }
   ],
   "source": [
    "import numpy as np\n",
    "\n",
    "new_stats = np.arange(40).reshape(10, 4)\n",
    "\n",
    "print(\"Type:\", type(new_stats))      # <class 'numpy.ndarray'>\n",
    "print(\"Shape:\", new_stats.shape)     # (10, 4)\n",
    "print(\"Dimensions:\", new_stats.ndim) # 2\n",
    "\n",
    "new_stats[-5:]  # shows last 5 rows in notebook output"
   ]
  },
  {
   "cell_type": "code",
   "execution_count": null,
   "id": "caac59b2-25c4-4256-b27d-028537f5bfea",
   "metadata": {},
   "outputs": [],
   "source": []
  }
 ],
 "metadata": {
  "kernelspec": {
   "display_name": "Python 3 (ipykernel)",
   "language": "python",
   "name": "python3"
  },
  "language_info": {
   "codemirror_mode": {
    "name": "ipython",
    "version": 3
   },
   "file_extension": ".py",
   "mimetype": "text/x-python",
   "name": "python",
   "nbconvert_exporter": "python",
   "pygments_lexer": "ipython3",
   "version": "3.12.3"
  }
 },
 "nbformat": 4,
 "nbformat_minor": 5
}
